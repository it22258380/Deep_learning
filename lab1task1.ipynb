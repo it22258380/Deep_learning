{
  "nbformat": 4,
  "nbformat_minor": 0,
  "metadata": {
    "colab": {
      "provenance": [],
      "authorship_tag": "ABX9TyNNNFkzIzzn7IRSAcE+Mf8n",
      "include_colab_link": true
    },
    "kernelspec": {
      "name": "python3",
      "display_name": "Python 3"
    },
    "language_info": {
      "name": "python"
    }
  },
  "cells": [
    {
      "cell_type": "markdown",
      "metadata": {
        "id": "view-in-github",
        "colab_type": "text"
      },
      "source": [
        "<a href=\"https://colab.research.google.com/github/it22258380/Deep_learning/blob/main/lab1task1.ipynb\" target=\"_parent\"><img src=\"https://colab.research.google.com/assets/colab-badge.svg\" alt=\"Open In Colab\"/></a>"
      ]
    },
    {
      "cell_type": "code",
      "execution_count": null,
      "metadata": {
        "colab": {
          "base_uri": "https://localhost:8080/"
        },
        "id": "WQ2k4DGyCJyD",
        "outputId": "648b58b9-360a-40fe-8333-b3117097e94c"
      },
      "outputs": [
        {
          "output_type": "stream",
          "name": "stdout",
          "text": [
            "[[1.64897305 0.7492738  0.00209324 0.0801063 ]\n",
            " [0.80135218 0.35125041 0.06993781 0.29223972]\n",
            " [0.4548816  0.57038264 0.40826466 0.17697992]\n",
            " [0.43320745 2.05688373 0.25048187 1.03674671]]\n"
          ]
        }
      ],
      "source": [
        "import numpy as np\n",
        "arr=np.random.exponential(scale=1,size=(4,4))\n",
        "print(arr)\n"
      ]
    },
    {
      "cell_type": "code",
      "source": [
        "from google.colab import drive\n",
        "drive.mount('/content/drive')"
      ],
      "metadata": {
        "colab": {
          "base_uri": "https://localhost:8080/"
        },
        "id": "m4a5SGwpESSY",
        "outputId": "df9ac606-ecca-4a53-8c41-20bccc4a8554"
      },
      "execution_count": null,
      "outputs": [
        {
          "output_type": "stream",
          "name": "stdout",
          "text": [
            "Mounted at /content/drive\n"
          ]
        }
      ]
    }
  ]
}